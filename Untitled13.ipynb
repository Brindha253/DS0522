{
 "cells": [
  {
   "cell_type": "code",
   "execution_count": 9,
   "id": "6e508bcb",
   "metadata": {},
   "outputs": [
    {
     "ename": "IndentationError",
     "evalue": "unindent does not match any outer indentation level (<tokenize>, line 26)",
     "output_type": "error",
     "traceback": [
      "\u001b[1;36m  File \u001b[1;32m<tokenize>:26\u001b[1;36m\u001b[0m\n\u001b[1;33m    except:\u001b[0m\n\u001b[1;37m    ^\u001b[0m\n\u001b[1;31mIndentationError\u001b[0m\u001b[1;31m:\u001b[0m unindent does not match any outer indentation level\n"
     ]
    }
   ],
   "source": [
    "\n",
    "        if name==\"\":\n",
    "            print(\"This field is mandatory\")\n",
    "        if mob_no==\"\":\n",
    "            print(\"This field is mandatory\")\n",
    "        "
   ]
  },
  {
   "cell_type": "code",
   "execution_count": 6,
   "id": "e7f4170e",
   "metadata": {},
   "outputs": [
    {
     "ename": "NameError",
     "evalue": "name 'tn11m1969' is not defined",
     "output_type": "error",
     "traceback": [
      "\u001b[1;31m---------------------------------------------------------------------------\u001b[0m",
      "\u001b[1;31mNameError\u001b[0m                                 Traceback (most recent call last)",
      "Input \u001b[1;32mIn [6]\u001b[0m, in \u001b[0;36m<cell line: 1>\u001b[1;34m()\u001b[0m\n\u001b[1;32m----> 1\u001b[0m insurance(\u001b[43mtn11m1969\u001b[49m,brindha,\u001b[38;5;241m9750568848\u001b[39m)\n",
      "\u001b[1;31mNameError\u001b[0m: name 'tn11m1969' is not defined"
     ]
    }
   ],
   "source": [
    "insurance(tn11m1969,brindha,9750568848)"
   ]
  },
  {
   "cell_type": "code",
   "execution_count": null,
   "id": "3ccb2f78",
   "metadata": {},
   "outputs": [],
   "source": [
    "car_no=input(\"Enter your car_no\")\n",
    "name=input(\"Enter your name\")\n",
    "mob_no=int(input(\"Enter your mob_no\"))\n",
    "try:\n",
    "    if car_no==\"\":\n",
    "        raise exception()\n",
    "    elif name==\"\":\n",
    "        raise exception()\n",
    "    elif mob_no==\"\":\n",
    "        raise exception()\n",
    "    \n",
    "except:\n",
    "    if car_no==\"\":\n",
    "        print(\"This field is mandatory\")\n",
    "        continue\n",
    "        \n",
    "    if name==\"\":\n",
    "        print(\"This field is mandatory\")\n",
    "        continue\n",
    "        \n",
    "    if mob_no==\"\":\n",
    "        print(\"this field is mandatory\")\n",
    "        continue\n",
    "\n",
    "def insurance(car_no,name,mob_no):\n",
    "    while True:\n",
    "        x==car_no\n",
    "        y==name\n",
    "        z==mob_no\n",
    "        if y.isalpha():\n",
    "            print(\"Enter name is correct\")\n",
    "            break\n",
    "        else:\n",
    "            print(\"Enter only Alpha characters\")\n",
    "            continue\n",
    "        if len(str(z))!=10:\n",
    "            print(\"Enter ten digit number\")\n",
    "            continue\n",
    "        else:\n",
    "            print(\"Enter number is correct\")\n",
    "            break\n",
    "\n",
    "        \n",
    "    \n",
    "        \n",
    "       \n",
    "        \n"
   ]
  },
  {
   "cell_type": "code",
   "execution_count": null,
   "id": "467a4751",
   "metadata": {},
   "outputs": [],
   "source": []
  }
 ],
 "metadata": {
  "kernelspec": {
   "display_name": "Python 3 (ipykernel)",
   "language": "python",
   "name": "python3"
  },
  "language_info": {
   "codemirror_mode": {
    "name": "ipython",
    "version": 3
   },
   "file_extension": ".py",
   "mimetype": "text/x-python",
   "name": "python",
   "nbconvert_exporter": "python",
   "pygments_lexer": "ipython3",
   "version": "3.9.12"
  }
 },
 "nbformat": 4,
 "nbformat_minor": 5
}
